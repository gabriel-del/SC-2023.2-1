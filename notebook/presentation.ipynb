{
 "cells": [
  {
   "cell_type": "markdown",
   "metadata": {},
   "source": [
    "# Dataset: Titanic"
   ]
  },
  {
   "cell_type": "markdown",
   "metadata": {},
   "source": [
    "|PassengerId|Survived|Pclass|Name                                               |Sex   |Age|SibSp|Parch|Ticket          |Fare   |Cabin|Embarked|\n",
    "|-----------|--------|------|---------------------------------------------------|------|---|-----|-----|----------------|-------|-----|--------|\n",
    "|1          |0       |3     |Braund, Mr. Owen Harris                            |male  |22 |1    |0    |A/5 21171       |7.25   |     |S       |\n",
    "|2          |1       |1     |Cumings, Mrs. John Bradley (Florence Briggs Thayer)|female|38 |1    |0    |PC 17599        |71.2833|C85  |C       |\n",
    "|3          |1       |3     |Heikkinen, Miss. Laina                             |female|26 |0    |0    |STON/O2. 3101282|7.925  |     |S       |\n",
    "|4          |1       |1     |Futrelle, Mrs. Jacques Heath (Lily May Peel)       |female|35 |1    |0    |113803          |53.1   |C123 |S       |\n",
    "|5          |0       |3     |Allen, Mr. William Henry                           |male  |35 |0    |0    |373450          |8.05   |     |S       |\n",
    "|6          |0       |3     |Moran, Mr. James                                   |male  |   |0    |0    |330877          |8.4583 |     |Q       |\n",
    "|7          |0       |1     |McCarthy, Mr. Timothy J                            |male  |54 |0    |0    |17463           |51.8625|E46  |S       |\n",
    "|8          |0       |3     |Palsson, Master. Gosta Leonard                     |male  |2  |3    |1    |349909          |21.075 |     |S       |\n",
    "|9          |1       |3     |Johnson, Mrs. Oscar W (Elisabeth Vilhelmina Berg)  |female|27 |0    |2    |347742          |11.1333|     |S       |\n",
    "|10         |1       |2     |Nasser, Mrs. Nicholas (Adele Achem)                |female|14 |1    |0    |237736          |30.0708|     |C       |\n"
   ]
  },
  {
   "cell_type": "markdown",
   "metadata": {},
   "source": [
    "### Processar os dados\n",
    "\n",
    "* Retirar informações irrelevantes\n",
    "* Converter valores para números\n",
    "* Ignorar linhas com valores vazios"
   ]
  },
  {
   "cell_type": "code",
   "execution_count": 2,
   "metadata": {},
   "outputs": [],
   "source": [
    "%run '../src/process.py'"
   ]
  },
  {
   "cell_type": "markdown",
   "metadata": {},
   "source": [
    "|PassengerId|Survived|Pclass|Sex                                                |Age   |SibSp|Parch|Fare|Embarked        |\n",
    "|-----------|--------|------|---------------------------------------------------|------|-----|-----|----|----------------|\n",
    "|1          |0       |0     |0                                                  |0.725 |0.875|1.0  |0.9724334600760456|1               |\n",
    "|2          |1       |1     |1                                                  |0.525 |0.875|1.0  |0.7289608365019011|0               |\n",
    "|3          |1       |0     |1                                                  |0.675 |1.0  |1.0  |0.9698669201520912|1               |\n",
    "|4          |1       |1     |1                                                  |0.5625|0.875|1.0  |0.7980988593155893|1               |\n",
    "|5          |0       |0     |0                                                  |0.5625|1.0  |1.0  |0.9693916349809886|1               |\n",
    "|7          |0       |1     |0                                                  |0.325 |1.0  |1.0  |0.8028041825095057|1               |\n",
    "|8          |0       |0     |0                                                  |0.975 |0.625|0.8333333333333334|0.9198669201520913|1               |\n",
    "|9          |1       |0     |1                                                  |0.6625|1.0  |0.6666666666666666|0.9576680608365019|1               |\n",
    "|10         |1       |0.5   |1                                                  |0.825 |0.875|1.0  |0.8856623574144487|0               |\n"
   ]
  },
  {
   "cell_type": "markdown",
   "metadata": {},
   "source": [
    "### Imports"
   ]
  },
  {
   "cell_type": "code",
   "execution_count": 3,
   "metadata": {},
   "outputs": [],
   "source": [
    "import csv, sys\n",
    "sys.path.append('../src')\n",
    "from knn import *\n",
    "with open('../data/Titanic-Processed.csv', 'r') as f:\n",
    "  f = list(csv.reader(f, delimiter=',', lineterminator='\\n'))\n",
    "  knn = KNNClass(f)"
   ]
  },
  {
   "cell_type": "code",
   "execution_count": 4,
   "metadata": {},
   "outputs": [
    {
     "name": "stdout",
     "output_type": "stream",
     "text": [
      "['0', '1', '0', '1', '1', '1', '0', '0', '0', '0', '0', '1', '0', '1', '1', '1', '1', '1', '1', '1']\n"
     ]
    }
   ],
   "source": [
    "print(knn.target_test[:20])"
   ]
  },
  {
   "cell_type": "code",
   "execution_count": 5,
   "metadata": {},
   "outputs": [
    {
     "name": "stdout",
     "output_type": "stream",
     "text": [
      "[['1', '0', '0.525', '1.0', '1.0', '1.0', '1'], ['0.5', '0', '0.7625', '1.0', '1.0', '0.9600760456273765', '1'], ['1', '0', '0.4375', '0.875', '1.0', '0.6826045627376426', '1'], ['1', '0', '0.475', '0.875', '1.0', '0.800174144486692', '1'], ['1', '1', '0.7875', '0.875', '1.0', '0.5859315589353612', '0'], ['0.5', '1', '0.65', '1.0', '1.0', '0.9505703422053232', '1'], ['0', '0', '0.7', '1.0', '1.0', '0.9731939163498099', '1'], ['0', '0', '0.5625', '1.0', '1.0', '0.9729087452471483', '1'], ['0', '0', '0.7875', '0.875', '0.8333333333333334', '0.9725125475285171', '0'], ['0', '0', '0.625', '1.0', '1.0', '0.9724334600760456', '1']]\n"
     ]
    }
   ],
   "source": [
    "print(knn.data_test[:10])"
   ]
  },
  {
   "cell_type": "code",
   "execution_count": 6,
   "metadata": {},
   "outputs": [
    {
     "name": "stdout",
     "output_type": "stream",
     "text": [
      "['823', '227', '63', '622', '308', '636', '211', '591', '533', '366', '237', '311', '149', '459', '702']\n"
     ]
    }
   ],
   "source": [
    "print(knn.id_test[:15])"
   ]
  },
  {
   "cell_type": "code",
   "execution_count": 7,
   "metadata": {},
   "outputs": [
    {
     "data": {
      "text/plain": [
       "[(0.0, '430', '1'),\n",
       " (0.000475285171102624, '383', '0'),\n",
       " (0.000475285171102624, '580', '1'),\n",
       " (0.000475285171102624, '637', '0'),\n",
       " (0.0005863117870722467, '520', '0'),\n",
       " (0.0007444866920152116, '570', '1'),\n",
       " (0.0011882129277567266, '770', '0'),\n",
       " (0.012509032576257514, '745', '1'),\n",
       " (0.012513742905767991, '882', '0'),\n",
       " (0.012543657226276959, '720', '0')]"
      ]
     },
     "execution_count": 7,
     "metadata": {},
     "output_type": "execute_result"
    }
   ],
   "source": [
    "knn.calculate_distances(['0', '0', '0.6', '1.0', '1.0', '0.9693916349809886', '1'])[:10]"
   ]
  },
  {
   "cell_type": "code",
   "execution_count": 8,
   "metadata": {},
   "outputs": [
    {
     "data": {
      "text/plain": [
       "['0', '0', '0', '0', '1', '1', '0', '0', '0', '0', '0', '1', '0', '1', '1']"
      ]
     },
     "execution_count": 8,
     "metadata": {},
     "output_type": "execute_result"
    }
   ],
   "source": [
    "knn.predict()[:15]"
   ]
  },
  {
   "cell_type": "code",
   "execution_count": 9,
   "metadata": {},
   "outputs": [
    {
     "data": {
      "text/plain": [
       "0.8169014084507042"
      ]
     },
     "execution_count": 9,
     "metadata": {},
     "output_type": "execute_result"
    }
   ],
   "source": [
    "knn.accuracy()"
   ]
  },
  {
   "cell_type": "markdown",
   "metadata": {},
   "source": [
    "### Checar valores mais comuns para cada parâmetro"
   ]
  },
  {
   "cell_type": "code",
   "execution_count": 10,
   "metadata": {},
   "outputs": [
    {
     "name": "stdout",
     "output_type": "stream",
     "text": [
      "Pclass: 0.5607638888888888\n",
      "Sex: 0.6770833333333334\n",
      "Age: 0.6475837673611115\n",
      "SibSp: 0.9379340277777778\n",
      "Parch: 0.9114583333333337\n",
      "Fare: 0.8036210194866927\n"
     ]
    }
   ],
   "source": [
    "%run '../src/investigation.py'"
   ]
  }
 ],
 "metadata": {
  "kernelspec": {
   "display_name": "Python 3",
   "language": "python",
   "name": "python3"
  },
  "language_info": {
   "codemirror_mode": {
    "name": "ipython",
    "version": 3
   },
   "file_extension": ".py",
   "mimetype": "text/x-python",
   "name": "python",
   "nbconvert_exporter": "python",
   "pygments_lexer": "ipython3",
   "version": "3.11.6"
  }
 },
 "nbformat": 4,
 "nbformat_minor": 2
}
