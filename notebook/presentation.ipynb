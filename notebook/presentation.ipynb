{
 "cells": [
  {
   "cell_type": "markdown",
   "metadata": {},
   "source": [
    "# Dataset: Titanic"
   ]
  },
  {
   "cell_type": "markdown",
   "metadata": {},
   "source": [
    "|PassengerId|Survived|Pclass|Name                                               |Sex   |Age|SibSp|Parch|Ticket          |Fare   |Cabin|Embarked|\n",
    "|-----------|--------|------|---------------------------------------------------|------|---|-----|-----|----------------|-------|-----|--------|\n",
    "|1          |0       |3     |Braund, Mr. Owen Harris                            |male  |22 |1    |0    |A/5 21171       |7.25   |     |S       |\n",
    "|2          |1       |1     |Cumings, Mrs. John Bradley (Florence Briggs Thayer)|female|38 |1    |0    |PC 17599        |71.2833|C85  |C       |\n",
    "|3          |1       |3     |Heikkinen, Miss. Laina                             |female|26 |0    |0    |STON/O2. 3101282|7.925  |     |S       |\n",
    "|4          |1       |1     |Futrelle, Mrs. Jacques Heath (Lily May Peel)       |female|35 |1    |0    |113803          |53.1   |C123 |S       |\n",
    "|5          |0       |3     |Allen, Mr. William Henry                           |male  |35 |0    |0    |373450          |8.05   |     |S       |\n",
    "|6          |0       |3     |Moran, Mr. James                                   |male  |   |0    |0    |330877          |8.4583 |     |Q       |\n",
    "|7          |0       |1     |McCarthy, Mr. Timothy J                            |male  |54 |0    |0    |17463           |51.8625|E46  |S       |\n",
    "|8          |0       |3     |Palsson, Master. Gosta Leonard                     |male  |2  |3    |1    |349909          |21.075 |     |S       |\n",
    "|9          |1       |3     |Johnson, Mrs. Oscar W (Elisabeth Vilhelmina Berg)  |female|27 |0    |2    |347742          |11.1333|     |S       |\n",
    "|10         |1       |2     |Nasser, Mrs. Nicholas (Adele Achem)                |female|14 |1    |0    |237736          |30.0708|     |C       |\n"
   ]
  },
  {
   "cell_type": "markdown",
   "metadata": {},
   "source": [
    "### Processar os dados\n",
    "\n",
    "* Retirar informações irrelevantes\n",
    "* Converter valores para números\n",
    "* Ignorar linhas com valores vazios"
   ]
  },
  {
   "cell_type": "code",
   "execution_count": 1,
   "metadata": {},
   "outputs": [],
   "source": [
    "%run '../src/process.py'"
   ]
  },
  {
   "cell_type": "markdown",
   "metadata": {},
   "source": [
    "|PassengerId|Survived|Pclass|Sex                                                |Age   |SibSp|Parch|Fare|Embarked        |\n",
    "|-----------|--------|------|---------------------------------------------------|------|-----|-----|----|----------------|\n",
    "|1          |0       |0     |0                                                  |0.725 |0.875|1.0  |0.9724334600760456|1               |\n",
    "|2          |1       |1     |1                                                  |0.525 |0.875|1.0  |0.7289608365019011|0               |\n",
    "|3          |1       |0     |1                                                  |0.675 |1.0  |1.0  |0.9698669201520912|1               |\n",
    "|4          |1       |1     |1                                                  |0.5625|0.875|1.0  |0.7980988593155893|1               |\n",
    "|5          |0       |0     |0                                                  |0.5625|1.0  |1.0  |0.9693916349809886|1               |\n",
    "|7          |0       |1     |0                                                  |0.325 |1.0  |1.0  |0.8028041825095057|1               |\n",
    "|8          |0       |0     |0                                                  |0.975 |0.625|0.8333333333333334|0.9198669201520913|1               |\n",
    "|9          |1       |0     |1                                                  |0.6625|1.0  |0.6666666666666666|0.9576680608365019|1               |\n",
    "|10         |1       |0.5   |1                                                  |0.825 |0.875|1.0  |0.8856623574144487|0               |\n"
   ]
  },
  {
   "cell_type": "markdown",
   "metadata": {},
   "source": [
    "### Imports"
   ]
  },
  {
   "cell_type": "code",
   "execution_count": 2,
   "metadata": {},
   "outputs": [],
   "source": [
    "import csv, sys\n",
    "sys.path.append('../src')\n",
    "from knn import *\n",
    "with open('../data/Titanic-Processed.csv', 'r') as f:\n",
    "  f = list(csv.reader(f, delimiter=',', lineterminator='\\n'))\n",
    "  knn = KNNClass(f)"
   ]
  },
  {
   "cell_type": "code",
   "execution_count": 3,
   "metadata": {},
   "outputs": [
    {
     "name": "stdout",
     "output_type": "stream",
     "text": [
      "['0', '0', '0', '1', '0', '0', '1', '1', '1', '0', '1', '1', '1', '0', '0', '1', '0', '1', '0', '1']\n"
     ]
    }
   ],
   "source": [
    "print(knn.target_test[:20])"
   ]
  },
  {
   "cell_type": "code",
   "execution_count": 4,
   "metadata": {},
   "outputs": [
    {
     "name": "stdout",
     "output_type": "stream",
     "text": [
      "[['1', '1', '0.30625', '0.0', '0.0', '0.03060836501901141', '1'], ['1', '1', '0.275', '0.0', '0.0', '0.027566539923954372', '1'], ['0.5', '1', '0.425', '0.0', '0.0', '0.049429657794676805', '1'], ['0', '0', '0.2', '0.0', '0.16666666666666666', '0.14980988593155892', '1'], ['1', '1', '0.1125', '0.5', '0.3333333333333333', '0.11934410646387833', '1'], ['1', '1', '0.2625', '0.0', '0.0', '0.029404182509505702', '(0.5+0.8660254037844386j)'], ['0', '0', '0.2875', '0.125', '0.0', '0.430703422053232', '0'], ['0.5', '1', '0.0375', '0.125', '0.16666666666666666', '0.07129277566539924', '1'], ['0', '1', '0.2125', '0.0', '0.3333333333333333', '0.4216095057034221', '0'], ['0.5', '1', '0.375', '0.0', '0.0', '0.049429657794676805', '1']]\n"
     ]
    }
   ],
   "source": [
    "print(knn.data_test[:10])"
   ]
  },
  {
   "cell_type": "code",
   "execution_count": 5,
   "metadata": {},
   "outputs": [
    {
     "name": "stdout",
     "output_type": "stream",
     "text": [
      "['677', '213', '801', '854', '183', '422', '394', '408', '551', '179', '367', '691', '392', '135', '790']\n"
     ]
    }
   ],
   "source": [
    "print(knn.id_test[:15])"
   ]
  },
  {
   "cell_type": "code",
   "execution_count": 6,
   "metadata": {},
   "outputs": [
    {
     "data": {
      "text/plain": [
       "[(0.9622922198862368, '342', '1'),\n",
       " (1.203036679019651, '499', '0'),\n",
       " (1.267644292139821, '319', '1'),\n",
       " (1.3020238097157175, '298', '0'),\n",
       " (1.3562507308016816, '821', '1'),\n",
       " (1.384558111698294, '559', '1'),\n",
       " (1.398622998040295, '541', '1'),\n",
       " (1.3996719476734405, '438', '1'),\n",
       " (1.4077304057583984, '755', '1'),\n",
       " (1.4245507764448222, '586', '1')]"
      ]
     },
     "execution_count": 6,
     "metadata": {},
     "output_type": "execute_result"
    }
   ],
   "source": [
    "knn.calculate_distances(['0', '0', '0.6', '1.0', '1.0', '0.9693916349809886', '1'])[:10]"
   ]
  },
  {
   "cell_type": "code",
   "execution_count": 7,
   "metadata": {},
   "outputs": [
    {
     "data": {
      "text/plain": [
       "['0', '0', '0', '1', '0', '0', '1', '1', '1', '0', '1', '0', '0', '0', '0']"
      ]
     },
     "execution_count": 7,
     "metadata": {},
     "output_type": "execute_result"
    }
   ],
   "source": [
    "knn.predict()[:15]"
   ]
  },
  {
   "cell_type": "code",
   "execution_count": 8,
   "metadata": {},
   "outputs": [
    {
     "data": {
      "text/plain": [
       "0.8262910798122066"
      ]
     },
     "execution_count": 8,
     "metadata": {},
     "output_type": "execute_result"
    }
   ],
   "source": [
    "knn.accuracy()"
   ]
  },
  {
   "cell_type": "markdown",
   "metadata": {},
   "source": [
    "### Checar valores mais comuns para cada parâmetro"
   ]
  },
  {
   "cell_type": "code",
   "execution_count": 9,
   "metadata": {},
   "outputs": [
    {
     "name": "stdout",
     "output_type": "stream",
     "text": [
      "Pclass: 0.4392361111111111\n",
      "Sex: 0.3229166666666667\n",
      "Age: 0.35241623263888894\n",
      "SibSp: 0.062065972222222224\n",
      "Parch: 0.08854166666666675\n",
      "Fare: 0.19637898051330815\n"
     ]
    }
   ],
   "source": [
    "%run '../src/investigation.py'"
   ]
  },
  {
   "cell_type": "code",
   "execution_count": 10,
   "metadata": {},
   "outputs": [
    {
     "name": "stdout",
     "output_type": "stream",
     "text": [
      "\n",
      "Acurácias: \n",
      "Média: 0.7927699530516428, máxima: 0.8497652582159625, mínima: 0.7370892018779343\n"
     ]
    }
   ],
   "source": [
    "%run '../src/main.py'"
   ]
  }
 ],
 "metadata": {
  "kernelspec": {
   "display_name": "Python 3",
   "language": "python",
   "name": "python3"
  },
  "language_info": {
   "codemirror_mode": {
    "name": "ipython",
    "version": 3
   },
   "file_extension": ".py",
   "mimetype": "text/x-python",
   "name": "python",
   "nbconvert_exporter": "python",
   "pygments_lexer": "ipython3",
   "version": "3.11.6"
  }
 },
 "nbformat": 4,
 "nbformat_minor": 2
}
