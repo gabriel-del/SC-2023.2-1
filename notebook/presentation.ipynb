{
 "cells": [
  {
   "cell_type": "markdown",
   "metadata": {},
   "source": [
    "# Dataset: Titanic"
   ]
  },
  {
   "cell_type": "markdown",
   "metadata": {},
   "source": [
    "|PassengerId|Survived|Pclass|Name                                               |Sex   |Age|SibSp|Parch|Ticket          |Fare   |Cabin|Embarked|\n",
    "|-----------|--------|------|---------------------------------------------------|------|---|-----|-----|----------------|-------|-----|--------|\n",
    "|1          |0       |3     |Braund, Mr. Owen Harris                            |male  |22 |1    |0    |A/5 21171       |7.25   |     |S       |\n",
    "|2          |1       |1     |Cumings, Mrs. John Bradley (Florence Briggs Thayer)|female|38 |1    |0    |PC 17599        |71.2833|C85  |C       |\n",
    "|3          |1       |3     |Heikkinen, Miss. Laina                             |female|26 |0    |0    |STON/O2. 3101282|7.925  |     |S       |\n",
    "|4          |1       |1     |Futrelle, Mrs. Jacques Heath (Lily May Peel)       |female|35 |1    |0    |113803          |53.1   |C123 |S       |\n",
    "|5          |0       |3     |Allen, Mr. William Henry                           |male  |35 |0    |0    |373450          |8.05   |     |S       |\n",
    "|6          |0       |3     |Moran, Mr. James                                   |male  |   |0    |0    |330877          |8.4583 |     |Q       |\n",
    "|7          |0       |1     |McCarthy, Mr. Timothy J                            |male  |54 |0    |0    |17463           |51.8625|E46  |S       |\n",
    "|8          |0       |3     |Palsson, Master. Gosta Leonard                     |male  |2  |3    |1    |349909          |21.075 |     |S       |\n",
    "|9          |1       |3     |Johnson, Mrs. Oscar W (Elisabeth Vilhelmina Berg)  |female|27 |0    |2    |347742          |11.1333|     |S       |\n",
    "|10         |1       |2     |Nasser, Mrs. Nicholas (Adele Achem)                |female|14 |1    |0    |237736          |30.0708|     |C       |\n"
   ]
  },
  {
   "cell_type": "markdown",
   "metadata": {},
   "source": [
    "### Processar os dados\n",
    "\n",
    "* Retirar informações irrelevantes\n",
    "* Converter valores para números\n",
    "* Ignorar linhas com valores vazios"
   ]
  },
  {
   "cell_type": "code",
   "execution_count": 8,
   "metadata": {},
   "outputs": [],
   "source": [
    "%run '../src/process.py'"
   ]
  },
  {
   "cell_type": "markdown",
   "metadata": {},
   "source": [
    "|PassengerId|Survived|Pclass|Sex                                                |Age   |SibSp|Parch|Fare|Embarked        |\n",
    "|-----------|--------|------|---------------------------------------------------|------|-----|-----|----|----------------|\n",
    "|1          |0       |0     |0                                                  |0.725 |0.875|1.0  |0.9724334600760456|1               |\n",
    "|2          |1       |1     |1                                                  |0.525 |0.875|1.0  |0.7289608365019011|0               |\n",
    "|3          |1       |0     |1                                                  |0.675 |1.0  |1.0  |0.9698669201520912|1               |\n",
    "|4          |1       |1     |1                                                  |0.5625|0.875|1.0  |0.7980988593155893|1               |\n",
    "|5          |0       |0     |0                                                  |0.5625|1.0  |1.0  |0.9693916349809886|1               |\n",
    "|7          |0       |1     |0                                                  |0.325 |1.0  |1.0  |0.8028041825095057|1               |\n",
    "|8          |0       |0     |0                                                  |0.975 |0.625|0.8333333333333334|0.9198669201520913|1               |\n",
    "|9          |1       |0     |1                                                  |0.6625|1.0  |0.6666666666666666|0.9576680608365019|1               |\n",
    "|10         |1       |0.5   |1                                                  |0.825 |0.875|1.0  |0.8856623574144487|0               |\n"
   ]
  }
 ],
 "metadata": {
  "kernelspec": {
   "display_name": "Python 3",
   "language": "python",
   "name": "python3"
  },
  "language_info": {
   "codemirror_mode": {
    "name": "ipython",
    "version": 3
   },
   "file_extension": ".py",
   "mimetype": "text/x-python",
   "name": "python",
   "nbconvert_exporter": "python",
   "pygments_lexer": "ipython3",
   "version": "3.11.6"
  }
 },
 "nbformat": 4,
 "nbformat_minor": 2
}
